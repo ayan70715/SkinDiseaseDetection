{
  "cells": [
    {
      "cell_type": "code",
      "execution_count": 5,
      "metadata": {
        "id": "gDF9OyUeYcmA"
      },
      "outputs": [],
      "source": [
        "import tensorflow as tf\n",
        "from tensorflow import keras\n",
        "from keras import Sequential\n",
        "from keras.layers import Conv2D,MaxPooling2D,BatchNormalization,Dropout,Flatten,Dense"
      ]
    },
    {
      "cell_type": "code",
      "execution_count": 6,
      "metadata": {
        "id": "TFUVC2rZYdWa"
      },
      "outputs": [],
      "source": [
        "from tensorflow.keras.preprocessing.image import ImageDataGenerator\n",
        "\n",
        "data_directory = '/content/IMG_CLASSES'"
      ]
    },
    {
      "cell_type": "code",
      "execution_count": 7,
      "metadata": {
        "colab": {
          "base_uri": "https://localhost:8080/"
        },
        "id": "1Hp8fOjjZwZD",
        "outputId": "b5524e07-fa76-4cd2-b5fd-46da599604b3"
      },
      "outputs": [],
      "source": [
        "train_ds = keras.utils.image_dataset_from_directory(\n",
        "    directory = \"/content/Output/train/\",\n",
        "    labels=\"inferred\",\n",
        "    label_mode=\"int\",\n",
        "    class_names=None,\n",
        "    color_mode=\"rgb\",\n",
        "    batch_size=32,\n",
        "    image_size=(225, 225),\n",
        "    )\n",
        "\n",
        "valid_ds = keras.utils.image_dataset_from_directory(\n",
        "    directory = \"/content/Output/valid/\",\n",
        "    labels=\"inferred\",\n",
        "    label_mode=\"int\",\n",
        "    class_names=None,\n",
        "    color_mode=\"rgb\",\n",
        "    batch_size=32,\n",
        "    image_size=(225, 225),\n",
        "    )"
      ]
    },
    {
      "cell_type": "code",
      "execution_count": 8,
      "metadata": {
        "id": "eZuhm-9CfDyG"
      },
      "outputs": [],
      "source": [
        "def process(image,label):\n",
        "  image = tf.cast(image/255. , tf.float32)\n",
        "  return image,label\n",
        "\n",
        "train_ds = train_ds.map(process)\n",
        "valid_ds = valid_ds.map(process)"
      ]
    },
    {
      "cell_type": "code",
      "execution_count": 16,
      "metadata": {
        "id": "IQAnkS3oZwbw"
      },
      "outputs": [],
      "source": [
        "model1 = Sequential()\n",
        "\n",
        "model1.add(Conv2D(32, kernel_size=(3, 3), padding='valid', activation='relu', input_shape=(225,225,3)))\n",
        "model1.add(BatchNormalization())\n",
        "model1.add(MaxPooling2D(pool_size=(2, 2), strides=2, padding='valid'))\n",
        "model1.add(Conv2D(64, kernel_size=(3, 3), padding='valid', activation='relu'))\n",
        "model1.add(BatchNormalization())\n",
        "model1.add(MaxPooling2D(pool_size=(2, 2), strides=2, padding='valid'))\n",
        "model1.add(Conv2D(128, kernel_size=(3, 3), padding='valid', activation='relu'))\n",
        "model1.add(BatchNormalization())\n",
        "model1.add(MaxPooling2D(pool_size=(2, 2), strides=2, padding='valid'))\n",
        "model1.add(Conv2D(256, kernel_size=(3, 3), padding='valid', activation='relu'))\n",
        "model1.add(BatchNormalization())\n",
        "model1.add(MaxPooling2D(pool_size=(2, 2), strides=2, padding='valid'))\n",
        "model1.add(Conv2D(512, kernel_size=(3, 3), padding='valid', activation='relu'))\n",
        "model1.add(BatchNormalization())\n",
        "model1.add(MaxPooling2D(pool_size=(2, 2), strides=2, padding='valid'))\n",
        "model1.add(Conv2D(1024, kernel_size=(3, 3), padding='valid', activation='relu'))\n",
        "model1.add(BatchNormalization())\n",
        "model1.add(MaxPooling2D(pool_size=(2, 2), strides=2, padding='valid'))\n",
        "model1.add(Flatten())\n",
        "model1.add(Dense(512, activation='relu'))\n",
        "model1.add(Dropout(0.3))\n",
        "model1.add(Dense(256, activation='relu'))\n",
        "model1.add(Dropout(0.1))\n",
        "model1.add(Dense(128, activation='relu'))\n",
        "model1.add(Dropout(0.1))\n",
        "model1.add(Dense(10, activation='softmax'))"
      ]
    },
    {
      "cell_type": "code",
      "execution_count": null,
      "metadata": {
        "colab": {
          "base_uri": "https://localhost:8080/",
          "height": 1000
        },
        "id": "2sDMlLX0ZwfR",
        "outputId": "b7e2b938-0148-4a43-d589-02a866b8fa03"
      },
      "outputs": [],
      "source": [
        "model1.summary()"
      ]
    },
    {
      "cell_type": "code",
      "execution_count": 18,
      "metadata": {
        "id": "m44w4ZF4cdsb"
      },
      "outputs": [],
      "source": [
        "model1.compile(optimizer='adam', loss='sparse_categorical_crossentropy', metrics=['accuracy'])"
      ]
    },
    {
      "cell_type": "code",
      "execution_count": null,
      "metadata": {
        "colab": {
          "base_uri": "https://localhost:8080/"
        },
        "id": "s0dOnCxfceF7",
        "outputId": "25d94eeb-7d4f-4d4d-97bc-0645d8d852df"
      },
      "outputs": [],
      "source": [
        "history1 = model1.fit(train_ds, epochs=15, validation_data=valid_ds)"
      ]
    },
    {
      "cell_type": "code",
      "execution_count": null,
      "metadata": {
        "colab": {
          "base_uri": "https://localhost:8080/",
          "height": 472
        },
        "id": "JwkRP7JqcjyA",
        "outputId": "4ab83b60-2bb4-4f1a-8e2f-2e5a8f70dff8"
      },
      "outputs": [],
      "source": [
        "import matplotlib.pyplot as plt\n",
        "\n",
        "plt.plot(history1.history['accuracy'])\n",
        "plt.plot(history1.history['val_accuracy'])\n",
        "plt.title('model accuracy')\n",
        "plt.ylabel('accuracy')\n",
        "plt.xlabel('epoch')\n",
        "plt.legend(['train', 'val'], loc='upper left')\n",
        "plt.show()"
      ]
    },
    {
      "cell_type": "code",
      "execution_count": null,
      "metadata": {
        "id": "-cQ1lXfOzMB9"
      },
      "outputs": [],
      "source": [
        "from tensorflow.keras.preprocessing import image\n",
        "import numpy as np\n",
        "import cv2\n",
        "\n",
        "img_path = '/content/Output/train/8. Seborrheic Keratoses and other Benign Tumors - 1.8k/0_11_aug_3.jpg'\n",
        "img = image.load_img(img_path, target_size=(225, 225))\n",
        "\n",
        "img_array = image.img_to_array(img)\n",
        "\n",
        "img_array = img_array / 255.0\n",
        "\n",
        "img_array = np.expand_dims(img_array, axis=0)\n"
      ]
    },
    {
      "cell_type": "code",
      "execution_count": null,
      "metadata": {
        "colab": {
          "base_uri": "https://localhost:8080/"
        },
        "id": "QMOx7UEZ0HMv",
        "outputId": "b8d149e9-79f0-492f-f74e-a71eafb0e30f"
      },
      "outputs": [],
      "source": [
        "predictions = model1.predict(img_array)\n",
        "\n",
        "predicted_class = np.argmax(predictions, axis=1)\n",
        "\n",
        "print(f\"Predicted Class: {predicted_class[0]}\")\n"
      ]
    }
  ],
  "metadata": {
    "accelerator": "GPU",
    "colab": {
      "gpuType": "T4",
      "provenance": []
    },
    "kernelspec": {
      "display_name": "Python 3",
      "name": "python3"
    },
    "language_info": {
      "name": "python"
    }
  },
  "nbformat": 4,
  "nbformat_minor": 0
}
